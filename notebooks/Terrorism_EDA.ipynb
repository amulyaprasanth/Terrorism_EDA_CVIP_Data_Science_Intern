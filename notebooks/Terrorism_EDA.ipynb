{
 "cells": [
  {
   "cell_type": "markdown",
   "id": "dda82038",
   "metadata": {},
   "source": [
    "# Exploratory Data Analysis\n",
    "\n",
    "This notebook contains exploratory data analysis of Global Terrorism dataset from Kaggle\n"
   ]
  },
  {
   "cell_type": "markdown",
   "id": "754a1ad3",
   "metadata": {},
   "source": [
    "## Importing the data and required packages"
   ]
  },
  {
   "cell_type": "code",
   "execution_count": 24,
   "id": "08efba21",
   "metadata": {},
   "outputs": [],
   "source": [
    "import numpy as np\n",
    "import pandas as pd\n",
    "\n",
    "%matplotlib inline \n",
    "import matplotlib.pyplot as plt\n",
    "import seaborn as sns\n",
    "\n",
    "plt.rcParams['figure.figsize'] = (10, 7)"
   ]
  },
  {
   "cell_type": "code",
   "execution_count": 2,
   "id": "c29e9ade",
   "metadata": {},
   "outputs": [
    {
     "data": {
      "text/html": [
       "<div>\n",
       "<style scoped>\n",
       "    .dataframe tbody tr th:only-of-type {\n",
       "        vertical-align: middle;\n",
       "    }\n",
       "\n",
       "    .dataframe tbody tr th {\n",
       "        vertical-align: top;\n",
       "    }\n",
       "\n",
       "    .dataframe thead th {\n",
       "        text-align: right;\n",
       "    }\n",
       "</style>\n",
       "<table border=\"1\" class=\"dataframe\">\n",
       "  <thead>\n",
       "    <tr style=\"text-align: right;\">\n",
       "      <th></th>\n",
       "      <th>eventid</th>\n",
       "      <th>iyear</th>\n",
       "      <th>imonth</th>\n",
       "      <th>iday</th>\n",
       "      <th>approxdate</th>\n",
       "      <th>extended</th>\n",
       "      <th>resolution</th>\n",
       "      <th>country</th>\n",
       "      <th>country_txt</th>\n",
       "      <th>region</th>\n",
       "      <th>...</th>\n",
       "      <th>addnotes</th>\n",
       "      <th>scite1</th>\n",
       "      <th>scite2</th>\n",
       "      <th>scite3</th>\n",
       "      <th>dbsource</th>\n",
       "      <th>INT_LOG</th>\n",
       "      <th>INT_IDEO</th>\n",
       "      <th>INT_MISC</th>\n",
       "      <th>INT_ANY</th>\n",
       "      <th>related</th>\n",
       "    </tr>\n",
       "  </thead>\n",
       "  <tbody>\n",
       "    <tr>\n",
       "      <th>0</th>\n",
       "      <td>197000000001</td>\n",
       "      <td>1970</td>\n",
       "      <td>7</td>\n",
       "      <td>2</td>\n",
       "      <td>NaN</td>\n",
       "      <td>0</td>\n",
       "      <td>NaN</td>\n",
       "      <td>58</td>\n",
       "      <td>Dominican Republic</td>\n",
       "      <td>2</td>\n",
       "      <td>...</td>\n",
       "      <td>NaN</td>\n",
       "      <td>NaN</td>\n",
       "      <td>NaN</td>\n",
       "      <td>NaN</td>\n",
       "      <td>PGIS</td>\n",
       "      <td>0</td>\n",
       "      <td>0</td>\n",
       "      <td>0</td>\n",
       "      <td>0</td>\n",
       "      <td>NaN</td>\n",
       "    </tr>\n",
       "    <tr>\n",
       "      <th>1</th>\n",
       "      <td>197000000002</td>\n",
       "      <td>1970</td>\n",
       "      <td>0</td>\n",
       "      <td>0</td>\n",
       "      <td>NaN</td>\n",
       "      <td>0</td>\n",
       "      <td>NaN</td>\n",
       "      <td>130</td>\n",
       "      <td>Mexico</td>\n",
       "      <td>1</td>\n",
       "      <td>...</td>\n",
       "      <td>NaN</td>\n",
       "      <td>NaN</td>\n",
       "      <td>NaN</td>\n",
       "      <td>NaN</td>\n",
       "      <td>PGIS</td>\n",
       "      <td>0</td>\n",
       "      <td>1</td>\n",
       "      <td>1</td>\n",
       "      <td>1</td>\n",
       "      <td>NaN</td>\n",
       "    </tr>\n",
       "    <tr>\n",
       "      <th>2</th>\n",
       "      <td>197001000001</td>\n",
       "      <td>1970</td>\n",
       "      <td>1</td>\n",
       "      <td>0</td>\n",
       "      <td>NaN</td>\n",
       "      <td>0</td>\n",
       "      <td>NaN</td>\n",
       "      <td>160</td>\n",
       "      <td>Philippines</td>\n",
       "      <td>5</td>\n",
       "      <td>...</td>\n",
       "      <td>NaN</td>\n",
       "      <td>NaN</td>\n",
       "      <td>NaN</td>\n",
       "      <td>NaN</td>\n",
       "      <td>PGIS</td>\n",
       "      <td>-9</td>\n",
       "      <td>-9</td>\n",
       "      <td>1</td>\n",
       "      <td>1</td>\n",
       "      <td>NaN</td>\n",
       "    </tr>\n",
       "    <tr>\n",
       "      <th>3</th>\n",
       "      <td>197001000002</td>\n",
       "      <td>1970</td>\n",
       "      <td>1</td>\n",
       "      <td>0</td>\n",
       "      <td>NaN</td>\n",
       "      <td>0</td>\n",
       "      <td>NaN</td>\n",
       "      <td>78</td>\n",
       "      <td>Greece</td>\n",
       "      <td>8</td>\n",
       "      <td>...</td>\n",
       "      <td>NaN</td>\n",
       "      <td>NaN</td>\n",
       "      <td>NaN</td>\n",
       "      <td>NaN</td>\n",
       "      <td>PGIS</td>\n",
       "      <td>-9</td>\n",
       "      <td>-9</td>\n",
       "      <td>1</td>\n",
       "      <td>1</td>\n",
       "      <td>NaN</td>\n",
       "    </tr>\n",
       "    <tr>\n",
       "      <th>4</th>\n",
       "      <td>197001000003</td>\n",
       "      <td>1970</td>\n",
       "      <td>1</td>\n",
       "      <td>0</td>\n",
       "      <td>NaN</td>\n",
       "      <td>0</td>\n",
       "      <td>NaN</td>\n",
       "      <td>101</td>\n",
       "      <td>Japan</td>\n",
       "      <td>4</td>\n",
       "      <td>...</td>\n",
       "      <td>NaN</td>\n",
       "      <td>NaN</td>\n",
       "      <td>NaN</td>\n",
       "      <td>NaN</td>\n",
       "      <td>PGIS</td>\n",
       "      <td>-9</td>\n",
       "      <td>-9</td>\n",
       "      <td>1</td>\n",
       "      <td>1</td>\n",
       "      <td>NaN</td>\n",
       "    </tr>\n",
       "  </tbody>\n",
       "</table>\n",
       "<p>5 rows × 135 columns</p>\n",
       "</div>"
      ],
      "text/plain": [
       "        eventid  iyear  imonth  iday approxdate  extended resolution  country  \\\n",
       "0  197000000001   1970       7     2        NaN         0        NaN       58   \n",
       "1  197000000002   1970       0     0        NaN         0        NaN      130   \n",
       "2  197001000001   1970       1     0        NaN         0        NaN      160   \n",
       "3  197001000002   1970       1     0        NaN         0        NaN       78   \n",
       "4  197001000003   1970       1     0        NaN         0        NaN      101   \n",
       "\n",
       "          country_txt  region  ... addnotes scite1 scite2  scite3  dbsource  \\\n",
       "0  Dominican Republic       2  ...      NaN    NaN    NaN     NaN      PGIS   \n",
       "1              Mexico       1  ...      NaN    NaN    NaN     NaN      PGIS   \n",
       "2         Philippines       5  ...      NaN    NaN    NaN     NaN      PGIS   \n",
       "3              Greece       8  ...      NaN    NaN    NaN     NaN      PGIS   \n",
       "4               Japan       4  ...      NaN    NaN    NaN     NaN      PGIS   \n",
       "\n",
       "   INT_LOG  INT_IDEO INT_MISC INT_ANY  related  \n",
       "0        0         0        0       0      NaN  \n",
       "1        0         1        1       1      NaN  \n",
       "2       -9        -9        1       1      NaN  \n",
       "3       -9        -9        1       1      NaN  \n",
       "4       -9        -9        1       1      NaN  \n",
       "\n",
       "[5 rows x 135 columns]"
      ]
     },
     "execution_count": 2,
     "metadata": {},
     "output_type": "execute_result"
    }
   ],
   "source": [
    "# Importing the data \n",
    "data = pd.read_csv('../data/globalterrorism.csv', encoding='ISO-8859-1', low_memory=False)\n",
    "data.head()"
   ]
  },
  {
   "cell_type": "code",
   "execution_count": 3,
   "id": "a87c0218",
   "metadata": {},
   "outputs": [
    {
     "name": "stdout",
     "output_type": "stream",
     "text": [
      "There are 135 columns in the dataset.\n"
     ]
    }
   ],
   "source": [
    "print(f\"There are {len(data.columns)} columns in the dataset.\")"
   ]
  },
  {
   "cell_type": "markdown",
   "id": "69fd5a39",
   "metadata": {},
   "source": [
    "There are too many columns in the dataset. So I selected some important columns to perform data analysis on them."
   ]
  },
  {
   "cell_type": "code",
   "execution_count": 4,
   "id": "81a7a64b",
   "metadata": {},
   "outputs": [
    {
     "name": "stdout",
     "output_type": "stream",
     "text": [
      "Number of important columns: 14\n"
     ]
    }
   ],
   "source": [
    "imp_cols = [\"iyear\", \"imonth\", \"iday\", \"extended\", \"country_txt\", \"region_txt\", \n",
    "           \"city\", \"latitude\", \"longitude\", \"multiple\", \"success\", \"suicide\", \"gname\", \"nkill\"]\n",
    "print(f\"Number of important columns: {len(imp_cols)}\")"
   ]
  },
  {
   "cell_type": "markdown",
   "id": "c9106044",
   "metadata": {},
   "source": [
    "**Shape of the original dataset**"
   ]
  },
  {
   "cell_type": "code",
   "execution_count": 5,
   "id": "eb02c125",
   "metadata": {},
   "outputs": [
    {
     "data": {
      "text/plain": [
       "(181691, 135)"
      ]
     },
     "execution_count": 5,
     "metadata": {},
     "output_type": "execute_result"
    }
   ],
   "source": [
    "data.shape"
   ]
  },
  {
   "cell_type": "markdown",
   "id": "f72b1393",
   "metadata": {},
   "source": [
    "### Data Reduction"
   ]
  },
  {
   "cell_type": "code",
   "execution_count": 6,
   "id": "62b9e15b",
   "metadata": {},
   "outputs": [
    {
     "data": {
      "text/plain": [
       "Index(['iyear', 'imonth', 'iday', 'extended', 'country_txt', 'region_txt',\n",
       "       'city', 'latitude', 'longitude', 'multiple', 'success', 'suicide',\n",
       "       'gname', 'nkill'],\n",
       "      dtype='object')"
      ]
     },
     "execution_count": 6,
     "metadata": {},
     "output_type": "execute_result"
    }
   ],
   "source": [
    "# Transform the original dataframe\n",
    "terror_data = data[imp_cols]\n",
    "terror_data.columns"
   ]
  },
  {
   "cell_type": "markdown",
   "id": "22f30ba2",
   "metadata": {},
   "source": [
    "**Informatice statistics of the dataset**"
   ]
  },
  {
   "cell_type": "code",
   "execution_count": 7,
   "id": "a802a453",
   "metadata": {},
   "outputs": [
    {
     "name": "stdout",
     "output_type": "stream",
     "text": [
      "<class 'pandas.core.frame.DataFrame'>\n",
      "RangeIndex: 181691 entries, 0 to 181690\n",
      "Data columns (total 14 columns):\n",
      " #   Column       Non-Null Count   Dtype  \n",
      "---  ------       --------------   -----  \n",
      " 0   iyear        181691 non-null  int64  \n",
      " 1   imonth       181691 non-null  int64  \n",
      " 2   iday         181691 non-null  int64  \n",
      " 3   extended     181691 non-null  int64  \n",
      " 4   country_txt  181691 non-null  object \n",
      " 5   region_txt   181691 non-null  object \n",
      " 6   city         181257 non-null  object \n",
      " 7   latitude     177135 non-null  float64\n",
      " 8   longitude    177134 non-null  float64\n",
      " 9   multiple     181690 non-null  float64\n",
      " 10  success      181691 non-null  int64  \n",
      " 11  suicide      181691 non-null  int64  \n",
      " 12  gname        181691 non-null  object \n",
      " 13  nkill        171378 non-null  float64\n",
      "dtypes: float64(4), int64(6), object(4)\n",
      "memory usage: 19.4+ MB\n"
     ]
    }
   ],
   "source": [
    "terror_data.info()"
   ]
  },
  {
   "cell_type": "markdown",
   "id": "f42fd330",
   "metadata": {},
   "source": [
    "### Dataset Information\n",
    "\n",
    "**iyear:** Year in which the incident has occurred\\\n",
    "**imonth:** month in which the incident has occurred\\\n",
    "**iday:** day in which the incident has occurred\\\n",
    "**extended:** Duration of the incident extended more than 24 hours\\\n",
    "**country_txt:** Identifies the country or location in which the event has occurred\\\n",
    "**region_txt:** Identifies the region in which the event has occurred\\\n",
    "**city:** Contains the name of the city, village or town in which the incident has occurred.\\\n",
    "**latitude:** Records the latitude of the incident location\\\n",
    "**longitude:** Records the longitude of the incident location\\\n",
    "**multiple:** Records whether the attack is a part of multiple attacks.\\\n",
    "**success:** Whether the attack was successful or not.\\\n",
    "**suicide:** Whether the attacker committed suicide or not.\\\n",
    "**nkill:** Number of kills in the incident.\n"
   ]
  },
  {
   "cell_type": "markdown",
   "id": "c1052aa6",
   "metadata": {},
   "source": [
    "\n",
    "### **Data Checks**\n",
    "\n",
    "* Checking for missing values\n",
    "* Checking for duplicate values\n",
    "* Check datatypes\n",
    "* Check for unique values in every column\n",
    "* Check statistics of the given data\n"
   ]
  },
  {
   "cell_type": "markdown",
   "id": "2ed96b32-d859-47ca-9a3b-d1dde0305cb6",
   "metadata": {},
   "source": [
    "**Checking for missing values**"
   ]
  },
  {
   "cell_type": "code",
   "execution_count": 8,
   "id": "a485d66b",
   "metadata": {},
   "outputs": [
    {
     "data": {
      "text/plain": [
       "iyear              0\n",
       "imonth             0\n",
       "iday               0\n",
       "extended           0\n",
       "country_txt        0\n",
       "region_txt         0\n",
       "city             434\n",
       "latitude        4556\n",
       "longitude       4557\n",
       "multiple           1\n",
       "success            0\n",
       "suicide            0\n",
       "gname              0\n",
       "nkill          10313\n",
       "dtype: int64"
      ]
     },
     "execution_count": 8,
     "metadata": {},
     "output_type": "execute_result"
    }
   ],
   "source": [
    "terror_data.isnull().sum()"
   ]
  },
  {
   "cell_type": "markdown",
   "id": "b04bd3f1-2a5d-495a-8c92-76ad08838e48",
   "metadata": {},
   "source": [
    "There are missing values present in our dataset"
   ]
  },
  {
   "cell_type": "markdown",
   "id": "27cd5c80-828b-4c23-947a-56514f03e5bc",
   "metadata": {},
   "source": [
    "**Check for duplicated values**"
   ]
  },
  {
   "cell_type": "code",
   "execution_count": 9,
   "id": "59093138-7cb2-4354-8e09-4c471689eb3c",
   "metadata": {},
   "outputs": [
    {
     "data": {
      "text/plain": [
       "20121"
      ]
     },
     "execution_count": 9,
     "metadata": {},
     "output_type": "execute_result"
    }
   ],
   "source": [
    "terror_data.duplicated().sum()"
   ]
  },
  {
   "cell_type": "markdown",
   "id": "38827ef0-7bc8-4412-a214-1381e1da3a0f",
   "metadata": {},
   "source": [
    "Our dataset is containing duplicate values. We have to remove them"
   ]
  },
  {
   "cell_type": "markdown",
   "id": "890d7cb6-c149-4abe-87a9-ec46078a53be",
   "metadata": {},
   "source": [
    "**Remove duplicate values**"
   ]
  },
  {
   "cell_type": "code",
   "execution_count": 10,
   "id": "9be54ea5-c9e8-484c-9570-3724658e7a9d",
   "metadata": {},
   "outputs": [],
   "source": [
    "terror_data = terror_data.drop_duplicates()"
   ]
  },
  {
   "cell_type": "code",
   "execution_count": 11,
   "id": "d6ecabcc-6f1f-4a86-9484-3a4817651a64",
   "metadata": {},
   "outputs": [
    {
     "data": {
      "text/plain": [
       "0"
      ]
     },
     "execution_count": 11,
     "metadata": {},
     "output_type": "execute_result"
    }
   ],
   "source": [
    "terror_data.duplicated().sum()"
   ]
  },
  {
   "cell_type": "markdown",
   "id": "39bfd632-7ece-4f3f-9fa5-9e84b8e8b8a8",
   "metadata": {},
   "source": [
    "Check for missing values as some duplicates values may also contain missing values"
   ]
  },
  {
   "cell_type": "code",
   "execution_count": 12,
   "id": "f4e115ae-4bc6-4a86-a3f8-25139821b9d4",
   "metadata": {},
   "outputs": [
    {
     "data": {
      "text/plain": [
       "iyear             0\n",
       "imonth            0\n",
       "iday              0\n",
       "extended          0\n",
       "country_txt       0\n",
       "region_txt        0\n",
       "city            410\n",
       "latitude       3924\n",
       "longitude      3925\n",
       "multiple          1\n",
       "success           0\n",
       "suicide           0\n",
       "gname             0\n",
       "nkill          8668\n",
       "dtype: int64"
      ]
     },
     "execution_count": 12,
     "metadata": {},
     "output_type": "execute_result"
    }
   ],
   "source": [
    "terror_data.isna().sum()"
   ]
  },
  {
   "cell_type": "markdown",
   "id": "2feeb532-7c2e-4b95-b0a1-0eedc1f492b1",
   "metadata": {},
   "source": [
    "Let's drop missing values. Imputing missing values may lead to reduction in data quality."
   ]
  },
  {
   "cell_type": "code",
   "execution_count": 13,
   "id": "54c70c25-eefe-4731-9775-301562af9010",
   "metadata": {},
   "outputs": [],
   "source": [
    "terror_data.dropna(inplace=True)"
   ]
  },
  {
   "cell_type": "markdown",
   "id": "dddbbeb7-5e18-4dad-ab2b-914249713c5e",
   "metadata": {},
   "source": [
    "**Checking datateypes**"
   ]
  },
  {
   "cell_type": "code",
   "execution_count": 14,
   "id": "06906eaf-6ae9-4753-b0c2-82147113a63f",
   "metadata": {},
   "outputs": [
    {
     "name": "stdout",
     "output_type": "stream",
     "text": [
      "<class 'pandas.core.frame.DataFrame'>\n",
      "Int64Index: 149011 entries, 0 to 181690\n",
      "Data columns (total 14 columns):\n",
      " #   Column       Non-Null Count   Dtype  \n",
      "---  ------       --------------   -----  \n",
      " 0   iyear        149011 non-null  int64  \n",
      " 1   imonth       149011 non-null  int64  \n",
      " 2   iday         149011 non-null  int64  \n",
      " 3   extended     149011 non-null  int64  \n",
      " 4   country_txt  149011 non-null  object \n",
      " 5   region_txt   149011 non-null  object \n",
      " 6   city         149011 non-null  object \n",
      " 7   latitude     149011 non-null  float64\n",
      " 8   longitude    149011 non-null  float64\n",
      " 9   multiple     149011 non-null  float64\n",
      " 10  success      149011 non-null  int64  \n",
      " 11  suicide      149011 non-null  int64  \n",
      " 12  gname        149011 non-null  object \n",
      " 13  nkill        149011 non-null  float64\n",
      "dtypes: float64(4), int64(6), object(4)\n",
      "memory usage: 17.1+ MB\n"
     ]
    }
   ],
   "source": [
    "terror_data.info()"
   ]
  },
  {
   "cell_type": "markdown",
   "id": "443e55d1-abcf-4fb0-9d05-2f815851f34e",
   "metadata": {},
   "source": [
    "**Check for unique values  in every column**"
   ]
  },
  {
   "cell_type": "code",
   "execution_count": 15,
   "id": "55860234-ea05-477d-a25b-a4c5dd0414dc",
   "metadata": {},
   "outputs": [
    {
     "data": {
      "text/plain": [
       "country_txt      202\n",
       "region_txt        12\n",
       "city           33795\n",
       "gname           3360\n",
       "dtype: int64"
      ]
     },
     "execution_count": 15,
     "metadata": {},
     "output_type": "execute_result"
    }
   ],
   "source": [
    "cat_df = terror_data.select_dtypes(exclude=['int', 'float'])\n",
    "cat_df.nunique()"
   ]
  },
  {
   "cell_type": "markdown",
   "id": "869c75b6-f8f6-42c5-8d24-7cf7132076fc",
   "metadata": {},
   "source": [
    "**Check the descriptive statistics of the dataset**\n"
   ]
  },
  {
   "cell_type": "code",
   "execution_count": 16,
   "id": "937d2232-6c98-4590-b9a3-2828d883e2f4",
   "metadata": {},
   "outputs": [
    {
     "data": {
      "text/html": [
       "<div>\n",
       "<style scoped>\n",
       "    .dataframe tbody tr th:only-of-type {\n",
       "        vertical-align: middle;\n",
       "    }\n",
       "\n",
       "    .dataframe tbody tr th {\n",
       "        vertical-align: top;\n",
       "    }\n",
       "\n",
       "    .dataframe thead th {\n",
       "        text-align: right;\n",
       "    }\n",
       "</style>\n",
       "<table border=\"1\" class=\"dataframe\">\n",
       "  <thead>\n",
       "    <tr style=\"text-align: right;\">\n",
       "      <th></th>\n",
       "      <th>iyear</th>\n",
       "      <th>imonth</th>\n",
       "      <th>iday</th>\n",
       "      <th>extended</th>\n",
       "      <th>latitude</th>\n",
       "      <th>longitude</th>\n",
       "      <th>multiple</th>\n",
       "      <th>success</th>\n",
       "      <th>suicide</th>\n",
       "      <th>nkill</th>\n",
       "    </tr>\n",
       "  </thead>\n",
       "  <tbody>\n",
       "    <tr>\n",
       "      <th>count</th>\n",
       "      <td>149011.000000</td>\n",
       "      <td>149011.000000</td>\n",
       "      <td>149011.000000</td>\n",
       "      <td>149011.000000</td>\n",
       "      <td>149011.000000</td>\n",
       "      <td>1.490110e+05</td>\n",
       "      <td>149011.000000</td>\n",
       "      <td>149011.000000</td>\n",
       "      <td>149011.000000</td>\n",
       "      <td>149011.000000</td>\n",
       "    </tr>\n",
       "    <tr>\n",
       "      <th>mean</th>\n",
       "      <td>2003.800109</td>\n",
       "      <td>6.479072</td>\n",
       "      <td>15.548872</td>\n",
       "      <td>0.038118</td>\n",
       "      <td>24.278308</td>\n",
       "      <td>-5.464599e+02</td>\n",
       "      <td>0.090376</td>\n",
       "      <td>0.879955</td>\n",
       "      <td>0.042252</td>\n",
       "      <td>2.572448</td>\n",
       "    </tr>\n",
       "    <tr>\n",
       "      <th>std</th>\n",
       "      <td>12.777277</td>\n",
       "      <td>3.388321</td>\n",
       "      <td>8.808600</td>\n",
       "      <td>0.191482</td>\n",
       "      <td>17.930900</td>\n",
       "      <td>2.232684e+05</td>\n",
       "      <td>0.286720</td>\n",
       "      <td>0.325015</td>\n",
       "      <td>0.201164</td>\n",
       "      <td>12.109563</td>\n",
       "    </tr>\n",
       "    <tr>\n",
       "      <th>min</th>\n",
       "      <td>1970.000000</td>\n",
       "      <td>0.000000</td>\n",
       "      <td>0.000000</td>\n",
       "      <td>0.000000</td>\n",
       "      <td>-53.154613</td>\n",
       "      <td>-8.618590e+07</td>\n",
       "      <td>0.000000</td>\n",
       "      <td>0.000000</td>\n",
       "      <td>0.000000</td>\n",
       "      <td>0.000000</td>\n",
       "    </tr>\n",
       "    <tr>\n",
       "      <th>25%</th>\n",
       "      <td>1992.000000</td>\n",
       "      <td>4.000000</td>\n",
       "      <td>8.000000</td>\n",
       "      <td>0.000000</td>\n",
       "      <td>12.098045</td>\n",
       "      <td>9.174508e+00</td>\n",
       "      <td>0.000000</td>\n",
       "      <td>1.000000</td>\n",
       "      <td>0.000000</td>\n",
       "      <td>0.000000</td>\n",
       "    </tr>\n",
       "    <tr>\n",
       "      <th>50%</th>\n",
       "      <td>2010.000000</td>\n",
       "      <td>6.000000</td>\n",
       "      <td>15.000000</td>\n",
       "      <td>0.000000</td>\n",
       "      <td>31.631083</td>\n",
       "      <td>4.389071e+01</td>\n",
       "      <td>0.000000</td>\n",
       "      <td>1.000000</td>\n",
       "      <td>0.000000</td>\n",
       "      <td>1.000000</td>\n",
       "    </tr>\n",
       "    <tr>\n",
       "      <th>75%</th>\n",
       "      <td>2014.000000</td>\n",
       "      <td>9.000000</td>\n",
       "      <td>23.000000</td>\n",
       "      <td>0.000000</td>\n",
       "      <td>34.743578</td>\n",
       "      <td>6.938311e+01</td>\n",
       "      <td>0.000000</td>\n",
       "      <td>1.000000</td>\n",
       "      <td>0.000000</td>\n",
       "      <td>2.000000</td>\n",
       "    </tr>\n",
       "    <tr>\n",
       "      <th>max</th>\n",
       "      <td>2017.000000</td>\n",
       "      <td>12.000000</td>\n",
       "      <td>31.000000</td>\n",
       "      <td>1.000000</td>\n",
       "      <td>74.633553</td>\n",
       "      <td>1.793667e+02</td>\n",
       "      <td>1.000000</td>\n",
       "      <td>1.000000</td>\n",
       "      <td>1.000000</td>\n",
       "      <td>1570.000000</td>\n",
       "    </tr>\n",
       "  </tbody>\n",
       "</table>\n",
       "</div>"
      ],
      "text/plain": [
       "               iyear         imonth           iday       extended  \\\n",
       "count  149011.000000  149011.000000  149011.000000  149011.000000   \n",
       "mean     2003.800109       6.479072      15.548872       0.038118   \n",
       "std        12.777277       3.388321       8.808600       0.191482   \n",
       "min      1970.000000       0.000000       0.000000       0.000000   \n",
       "25%      1992.000000       4.000000       8.000000       0.000000   \n",
       "50%      2010.000000       6.000000      15.000000       0.000000   \n",
       "75%      2014.000000       9.000000      23.000000       0.000000   \n",
       "max      2017.000000      12.000000      31.000000       1.000000   \n",
       "\n",
       "            latitude     longitude       multiple        success  \\\n",
       "count  149011.000000  1.490110e+05  149011.000000  149011.000000   \n",
       "mean       24.278308 -5.464599e+02       0.090376       0.879955   \n",
       "std        17.930900  2.232684e+05       0.286720       0.325015   \n",
       "min       -53.154613 -8.618590e+07       0.000000       0.000000   \n",
       "25%        12.098045  9.174508e+00       0.000000       1.000000   \n",
       "50%        31.631083  4.389071e+01       0.000000       1.000000   \n",
       "75%        34.743578  6.938311e+01       0.000000       1.000000   \n",
       "max        74.633553  1.793667e+02       1.000000       1.000000   \n",
       "\n",
       "             suicide          nkill  \n",
       "count  149011.000000  149011.000000  \n",
       "mean        0.042252       2.572448  \n",
       "std         0.201164      12.109563  \n",
       "min         0.000000       0.000000  \n",
       "25%         0.000000       0.000000  \n",
       "50%         0.000000       1.000000  \n",
       "75%         0.000000       2.000000  \n",
       "max         1.000000    1570.000000  "
      ]
     },
     "execution_count": 16,
     "metadata": {},
     "output_type": "execute_result"
    }
   ],
   "source": [
    "terror_data.describe()"
   ]
  },
  {
   "cell_type": "markdown",
   "id": "b303b069-6396-4c1c-805d-bc7b338069c4",
   "metadata": {},
   "source": [
    "**Insights**\n",
    "* This dataset contains records from year 1970 to 2017\n",
    "* On average, 2 members are killed every attack.\n",
    "* On average, 8 out of 10 attacks are succeeded.\n",
    "* There is 40% chance that the attacker will attempt suicide.\n",
    "* There is 0.01% chance that there will be another attack following the first attack"
   ]
  },
  {
   "cell_type": "markdown",
   "id": "e9cd00c3-4c43-421b-bb39-1d6613760da9",
   "metadata": {},
   "source": [
    "## Data Exploration"
   ]
  },
  {
   "cell_type": "markdown",
   "id": "e7aec979-b63f-4bd2-a79e-7a483c6231a3",
   "metadata": {},
   "source": [
    "**Check for number of numerical and categorical columns in the dataset**"
   ]
  },
  {
   "cell_type": "code",
   "execution_count": 17,
   "id": "53c069c0-982d-40bd-9acb-634bff5656d6",
   "metadata": {},
   "outputs": [
    {
     "name": "stdout",
     "output_type": "stream",
     "text": [
      "Number of numerical columns: 10\n",
      "Number of categorical columns: 4\n"
     ]
    }
   ],
   "source": [
    "cat_features = terror_data.select_dtypes(include=\"object\").columns\n",
    "num_features = terror_data.select_dtypes(exclude=\"object\").columns\n",
    "\n",
    "print(f\"Number of numerical columns: {len(num_features)}\")\n",
    "print(f\"Number of categorical columns: {len(cat_features)}\")"
   ]
  },
  {
   "cell_type": "markdown",
   "id": "72771d00-cdad-4f7e-b489-5849d92fa17d",
   "metadata": {},
   "source": [
    "**Checking for categories in categorical columns**"
   ]
  },
  {
   "cell_type": "code",
   "execution_count": 18,
   "id": "6cac317a-1422-40ce-8909-9c13cab6889d",
   "metadata": {},
   "outputs": [
    {
     "name": "stdout",
     "output_type": "stream",
     "text": [
      "Categories in 'country_txt' :\n",
      "\n",
      "['Dominican Republic' 'Mexico' 'Philippines' 'United States' 'Uruguay'\n",
      " 'Italy' 'Guatemala' 'Venezuela' 'West Germany (FRG)' 'Switzerland'\n",
      " 'Brazil' 'Egypt' 'Argentina' 'Lebanon' 'Japan' 'Ireland' 'Jordan'\n",
      " 'Turkey' 'Paraguay' 'East Germany (GDR)' 'United Kingdom' 'Greece'\n",
      " 'Nicaragua' 'Belgium' 'Netherlands' 'Canada' 'Iran' 'Australia'\n",
      " 'Pakistan' 'Spain' 'Ethiopia' 'Sweden' 'South Yemen' 'Cambodia' 'Israel'\n",
      " 'Poland' 'Taiwan' 'Panama' 'West Bank and Gaza Strip' 'India' 'Austria'\n",
      " 'France' 'South Vietnam' 'Colombia' 'Brunei' 'Zaire'\n",
      " \"People's Republic of the Congo\" 'Portugal' 'Algeria' 'El Salvador'\n",
      " 'Thailand' 'Haiti' 'Sudan' 'Morocco' 'Cyprus' 'Afghanistan' 'Peru'\n",
      " 'Chile' 'Yugoslavia' 'Ecuador' 'New Zealand' 'Zambia' 'Malaysia'\n",
      " 'Bolivia' 'Singapore' 'Botswana' 'Kuwait' 'Jamaica' 'Chad' 'North Yemen'\n",
      " 'Syria' 'South Korea' 'United Arab Emirates' 'South Africa' 'Kenya'\n",
      " 'Iraq' 'Somalia' 'Sri Lanka' 'Namibia' 'Bahamas' 'Nigeria' 'Barbados'\n",
      " 'Costa Rica' 'Bangladesh' 'Mauritania' 'Djibouti' 'Indonesia' 'Rhodesia'\n",
      " 'Soviet Union' 'Angola' 'Guyana' 'Mozambique' 'Myanmar' 'Tunisia'\n",
      " 'Denmark' 'Uganda' 'Honduras' 'Norway' 'Lesotho' 'Tanzania' 'Gabon'\n",
      " 'Libya' 'Trinidad and Tobago' 'Saudi Arabia' 'Bahrain' 'Hong Kong'\n",
      " 'Senegal' 'Zimbabwe' 'Guinea' 'Grenada' 'New Hebrides' 'Belize'\n",
      " 'Guadeloupe' 'Martinique' 'Vatican City' 'Albania'\n",
      " 'Central African Republic' 'Seychelles' 'Dominica' 'Qatar' 'Bulgaria'\n",
      " 'Suriname' 'Swaziland' 'Luxembourg' 'Iceland' 'French Guiana'\n",
      " 'Burkina Faso' 'Malta' 'New Caledonia' 'Romania' 'Niger' 'Nepal' 'Togo'\n",
      " 'Finland' 'Fiji' 'Ghana' 'Maldives' 'Mauritius' 'Czechoslovakia'\n",
      " 'Hungary' 'Laos' 'Papua New Guinea' 'China' 'Liberia'\n",
      " 'Republic of the Congo' 'Mali' 'Germany' 'Yemen' 'Rwanda' 'Sierra Leone'\n",
      " 'Cameroon' 'Cuba' 'Croatia' 'Georgia' 'Azerbaijan' 'Madagascar'\n",
      " 'Lithuania' 'Burundi' 'Ukraine' 'Moldova' 'Armenia' 'Russia'\n",
      " 'Ivory Coast' 'Kazakhstan' 'Bosnia-Herzegovina' 'Tajikistan' 'Malawi'\n",
      " 'Uzbekistan' 'Latvia' 'Western Sahara' 'Estonia' 'Vietnam' 'Comoros'\n",
      " 'Benin' 'Slovak Republic' 'Macedonia' 'Wallis and Futuna'\n",
      " 'Czech Republic' 'Slovenia' 'Gambia' 'North Korea' 'Eritrea'\n",
      " 'St. Kitts and Nevis' 'French Polynesia' 'Macau' 'Kyrgyzstan' 'Vanuatu'\n",
      " 'Belarus' 'Democratic Republic of the Congo' 'Kosovo' 'Solomon Islands'\n",
      " 'East Timor' 'St. Lucia' 'Guinea-Bissau' 'Montenegro' 'International'\n",
      " 'Turkmenistan' 'Serbia-Montenegro' 'Bhutan' 'Serbia' 'Equatorial Guinea'\n",
      " 'South Sudan']\n",
      "Categories in 'region_txt': \n",
      "\n",
      "['Central America & Caribbean' 'North America' 'Southeast Asia'\n",
      " 'South America' 'Western Europe' 'Middle East & North Africa' 'East Asia'\n",
      " 'Eastern Europe' 'Australasia & Oceania' 'South Asia'\n",
      " 'Sub-Saharan Africa' 'Central Asia']\n",
      "Categories in 'city': \n",
      "['Santo Domingo' 'Mexico city' 'Unknown' ... 'Hungrum' 'Ceelka Geelow'\n",
      " 'Kubentog']\n",
      "Categories in 'gname': \n",
      "['MANO-D' '23rd of September Communist League' 'Unknown' ...\n",
      " 'Fatoni Warriors' 'Minorities of Metropolitan Attacks'\n",
      " 'Baloch Republican Party']\n"
     ]
    }
   ],
   "source": [
    "cat_columns = list(cat_df.columns)\n",
    "\n",
    "print(f\"Categories in 'country_txt' :\\n\")\n",
    "print(terror_data[\"country_txt\"].unique())\n",
    "\n",
    "print(f\"Categories in 'region_txt': \\n\")\n",
    "print(terror_data[\"region_txt\"].unique())\n",
    "\n",
    "print(f\"Categories in 'city': \")\n",
    "print(terror_data[\"city\"].unique())\n",
    "\n",
    "print(f\"Categories in 'gname': \")\n",
    "print(terror_data[\"gname\"].unique())"
   ]
  },
  {
   "cell_type": "code",
   "execution_count": 19,
   "id": "37d74aa8-af30-4323-8c12-6d294d97ffba",
   "metadata": {},
   "outputs": [
    {
     "data": {
      "text/html": [
       "<div>\n",
       "<style scoped>\n",
       "    .dataframe tbody tr th:only-of-type {\n",
       "        vertical-align: middle;\n",
       "    }\n",
       "\n",
       "    .dataframe tbody tr th {\n",
       "        vertical-align: top;\n",
       "    }\n",
       "\n",
       "    .dataframe thead th {\n",
       "        text-align: right;\n",
       "    }\n",
       "</style>\n",
       "<table border=\"1\" class=\"dataframe\">\n",
       "  <thead>\n",
       "    <tr style=\"text-align: right;\">\n",
       "      <th></th>\n",
       "      <th>iyear</th>\n",
       "      <th>imonth</th>\n",
       "      <th>iday</th>\n",
       "      <th>extended</th>\n",
       "      <th>country_txt</th>\n",
       "      <th>region_txt</th>\n",
       "      <th>city</th>\n",
       "      <th>latitude</th>\n",
       "      <th>longitude</th>\n",
       "      <th>multiple</th>\n",
       "      <th>success</th>\n",
       "      <th>suicide</th>\n",
       "      <th>gname</th>\n",
       "      <th>nkill</th>\n",
       "    </tr>\n",
       "  </thead>\n",
       "  <tbody>\n",
       "    <tr>\n",
       "      <th>0</th>\n",
       "      <td>1970</td>\n",
       "      <td>7</td>\n",
       "      <td>2</td>\n",
       "      <td>0</td>\n",
       "      <td>Dominican Republic</td>\n",
       "      <td>Central America &amp; Caribbean</td>\n",
       "      <td>Santo Domingo</td>\n",
       "      <td>18.456792</td>\n",
       "      <td>-69.951164</td>\n",
       "      <td>0.0</td>\n",
       "      <td>1</td>\n",
       "      <td>0</td>\n",
       "      <td>MANO-D</td>\n",
       "      <td>1.0</td>\n",
       "    </tr>\n",
       "    <tr>\n",
       "      <th>1</th>\n",
       "      <td>1970</td>\n",
       "      <td>0</td>\n",
       "      <td>0</td>\n",
       "      <td>0</td>\n",
       "      <td>Mexico</td>\n",
       "      <td>North America</td>\n",
       "      <td>Mexico city</td>\n",
       "      <td>19.371887</td>\n",
       "      <td>-99.086624</td>\n",
       "      <td>0.0</td>\n",
       "      <td>1</td>\n",
       "      <td>0</td>\n",
       "      <td>23rd of September Communist League</td>\n",
       "      <td>0.0</td>\n",
       "    </tr>\n",
       "    <tr>\n",
       "      <th>2</th>\n",
       "      <td>1970</td>\n",
       "      <td>1</td>\n",
       "      <td>0</td>\n",
       "      <td>0</td>\n",
       "      <td>Philippines</td>\n",
       "      <td>Southeast Asia</td>\n",
       "      <td>Unknown</td>\n",
       "      <td>15.478598</td>\n",
       "      <td>120.599741</td>\n",
       "      <td>0.0</td>\n",
       "      <td>1</td>\n",
       "      <td>0</td>\n",
       "      <td>Unknown</td>\n",
       "      <td>1.0</td>\n",
       "    </tr>\n",
       "    <tr>\n",
       "      <th>5</th>\n",
       "      <td>1970</td>\n",
       "      <td>1</td>\n",
       "      <td>1</td>\n",
       "      <td>0</td>\n",
       "      <td>United States</td>\n",
       "      <td>North America</td>\n",
       "      <td>Cairo</td>\n",
       "      <td>37.005105</td>\n",
       "      <td>-89.176269</td>\n",
       "      <td>0.0</td>\n",
       "      <td>1</td>\n",
       "      <td>0</td>\n",
       "      <td>Black Nationalists</td>\n",
       "      <td>0.0</td>\n",
       "    </tr>\n",
       "    <tr>\n",
       "      <th>6</th>\n",
       "      <td>1970</td>\n",
       "      <td>1</td>\n",
       "      <td>2</td>\n",
       "      <td>0</td>\n",
       "      <td>Uruguay</td>\n",
       "      <td>South America</td>\n",
       "      <td>Montevideo</td>\n",
       "      <td>-34.891151</td>\n",
       "      <td>-56.187214</td>\n",
       "      <td>0.0</td>\n",
       "      <td>0</td>\n",
       "      <td>0</td>\n",
       "      <td>Tupamaros (Uruguay)</td>\n",
       "      <td>0.0</td>\n",
       "    </tr>\n",
       "  </tbody>\n",
       "</table>\n",
       "</div>"
      ],
      "text/plain": [
       "   iyear  imonth  iday  extended         country_txt  \\\n",
       "0   1970       7     2         0  Dominican Republic   \n",
       "1   1970       0     0         0              Mexico   \n",
       "2   1970       1     0         0         Philippines   \n",
       "5   1970       1     1         0       United States   \n",
       "6   1970       1     2         0             Uruguay   \n",
       "\n",
       "                    region_txt           city   latitude   longitude  \\\n",
       "0  Central America & Caribbean  Santo Domingo  18.456792  -69.951164   \n",
       "1                North America    Mexico city  19.371887  -99.086624   \n",
       "2               Southeast Asia        Unknown  15.478598  120.599741   \n",
       "5                North America          Cairo  37.005105  -89.176269   \n",
       "6                South America     Montevideo -34.891151  -56.187214   \n",
       "\n",
       "   multiple  success  suicide                               gname  nkill  \n",
       "0       0.0        1        0                              MANO-D    1.0  \n",
       "1       0.0        1        0  23rd of September Communist League    0.0  \n",
       "2       0.0        1        0                             Unknown    1.0  \n",
       "5       0.0        1        0                  Black Nationalists    0.0  \n",
       "6       0.0        0        0                 Tupamaros (Uruguay)    0.0  "
      ]
     },
     "execution_count": 19,
     "metadata": {},
     "output_type": "execute_result"
    }
   ],
   "source": [
    "terror_data.head()"
   ]
  },
  {
   "cell_type": "markdown",
   "id": "f73ddd78-fff0-47a1-bf56-62b7a2866774",
   "metadata": {},
   "source": [
    "## Data Visualization\n",
    "\n",
    "### Univariate Analysis"
   ]
  },
  {
   "cell_type": "markdown",
   "id": "a6186d7b-b3d4-440c-ba75-58af12a865c5",
   "metadata": {},
   "source": [
    "#### `iyear` column"
   ]
  },
  {
   "cell_type": "code",
   "execution_count": 35,
   "id": "a05baa9e-171c-489e-aa9f-43c62cf72a92",
   "metadata": {},
   "outputs": [
    {
     "data": {
      "image/png": "[encoded data removed]",
      "text/plain": [
       "<Figure size 2500x700 with 1 Axes>"
      ]
     },
     "metadata": {},
     "output_type": "display_data"
    }
   ],
   "source": [
    "plt.figure(figsize=(25, 7))\n",
    "sns.countplot(x=terror_data[\"iyear\"], palette='winter')\n",
    "plt.title('Year wise terrorist attacks')\n",
    "plt.show()"
   ]
  },
  {
   "cell_type": "markdown",
   "id": "5c25ba8a-323c-4c34-b1c7-0407670d9929",
   "metadata": {},
   "source": [
    "**Insights:**\n",
    "- It can be inferred from the plot that there has been a significant increase in terror attacks since the year 2012\n",
    "- 2017 saw the highest number of terrorist attacks.\n",
    "- The year that had the least amount of terrorist attacks was 1970."
   ]
  },
  {
   "cell_type": "markdown",
   "id": "585ab685-1d19-4195-8759-bf078a632234",
   "metadata": {},
   "source": [
    "#### `imonth` column"
   ]
  },
  {
   "cell_type": "code",
   "execution_count": 40,
   "id": "02765393-6a48-430b-942d-8fc565fbba8e",
   "metadata": {},
   "outputs": [
    {
     "data": {
      "image/png": "[encoded data removed]",
      "text/plain": [
       "<Figure size 1000x700 with 1 Axes>"
      ]
     },
     "metadata": {},
     "output_type": "display_data"
    }
   ],
   "source": [
    "sns.countplot(x=terror_data[\"imonth\"], palette=\"viridis\")\n",
    "plt.title(\"Month wise terrorist attacks\")\n",
    "plt.show()"
   ]
  },
  {
   "cell_type": "markdown",
   "id": "774411a9-0c47-4185-a1cb-337ff9339bd7",
   "metadata": {},
   "source": [
    "**Insights:**\n",
    "- There is no relationship between the month and the number of terrorist attacks"
   ]
  },
  {
   "cell_type": "code",
   "execution_count": null,
   "id": "276badfa-2729-40b0-8184-4c55abe55478",
   "metadata": {},
   "outputs": [],
   "source": []
  }
 ],
 "metadata": {
  "kernelspec": {
   "display_name": "Python 3 (ipykernel)",
   "language": "python",
   "name": "python3"
  },
  "language_info": {
   "codemirror_mode": {
    "name": "ipython",
    "version": 3
   },
   "file_extension": ".py",
   "mimetype": "text/x-python",
   "name": "python",
   "nbconvert_exporter": "python",
   "pygments_lexer": "ipython3",
   "version": "3.10.12"
  }
 },
 "nbformat": 4,
 "nbformat_minor": 5
}
